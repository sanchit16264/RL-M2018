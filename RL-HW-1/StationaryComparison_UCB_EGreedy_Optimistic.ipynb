{
 "cells": [
  {
   "cell_type": "code",
   "execution_count": 1,
   "metadata": {},
   "outputs": [],
   "source": [
    "import numpy as np"
   ]
  },
  {
   "cell_type": "code",
   "execution_count": null,
   "metadata": {},
   "outputs": [],
   "source": []
  },
  {
   "cell_type": "code",
   "execution_count": 2,
   "metadata": {},
   "outputs": [],
   "source": [
    "def UCB(C,start,Optimum,Nt,totalTime,Bandits):\n",
    "    totalTime+=1\n",
    "    maxVal = -100\n",
    "    index = -1\n",
    "    for i in range(Bandits):\n",
    "        temp = start[i] + C*((np.log(totalTime)/(Nt[i]+0.000001))**0.5)\n",
    "#         print(temp)\n",
    "        if(temp>maxVal):\n",
    "            \n",
    "            maxVal = temp\n",
    "#             print(maxVal)\n",
    "            index = i\n",
    "    reward = Optimum[index]+np.random.randn(2)[0]\n",
    "    start[index]=(start[index]*Nt[index]+reward)/(Nt[index]+1)\n",
    "    Nt[index]+=1\n",
    "    \n",
    "    return start,Nt,totalTime,reward,index\n"
   ]
  },
  {
   "cell_type": "code",
   "execution_count": 3,
   "metadata": {},
   "outputs": [],
   "source": [
    "def EGreedy(e,start,optimum,Nt,Bandits,ConstantStep=False,alpha=None):\n",
    "    p1 = np.random.rand()\n",
    "    reward = 0\n",
    "    if(p1<(1-e)):\n",
    "#         print(Nt)\n",
    "        maxVal = -100\n",
    "        index = -1\n",
    "        for i in range(Bandits):\n",
    "            temp = start[i]\n",
    "            if(temp>maxVal):\n",
    "                maxVal = temp\n",
    "                index = i\n",
    "        reward = optimum[index]+np.random.randn(2)[0]\n",
    "        if(ConstantStep==False):\n",
    "            start[index] = (start[index]*Nt[index]+reward)/(Nt[index]+1)\n",
    "        else:\n",
    "            start[index] = (1-alpha)*start[index]+alpha*reward\n",
    "#             print(alpha)\n",
    "        Nt[index]+=1\n",
    "    else:\n",
    "        index = np.random.randint(Bandits)\n",
    "#         print(index)\n",
    "        reward = optimum[index]+np.random.randn(2)[0]\n",
    "        if(ConstantStep==False):\n",
    "            start[index] = (start[index]*Nt[index]+reward)/(Nt[index]+1)\n",
    "        else:\n",
    "            start[index] = (1-alpha)*start[index]+alpha*reward\n",
    "        Nt[index]+=1\n",
    "    \n",
    "    return start,Nt,reward,index"
   ]
  },
  {
   "cell_type": "code",
   "execution_count": null,
   "metadata": {},
   "outputs": [],
   "source": []
  },
  {
   "cell_type": "code",
   "execution_count": 4,
   "metadata": {},
   "outputs": [],
   "source": [
    "# # For Indivisual Generation of e\n",
    "# np.random.seed(0)\n",
    "# Bandits = 10\n",
    "# e=0.1\n",
    "\n",
    "# E_Reward = np.zeros(1001)\n",
    "# # print(start)\n",
    "# # print(Nt)\n",
    "# # print(Time)\n",
    "# for j in range(2000):\n",
    "#     Optimum = np.random.randn(Bandits)\n",
    "#     start = np.random.randn(Bandits)*0.0001\n",
    "#     Nt = np.zeros(Bandits)\n",
    "#     Time = 0\n",
    "#     for i in range(1000):\n",
    "#         start,Nt,CurrReward = EGreedy(e,start,Optimum,Nt,Bandits)\n",
    "#         Time+=1\n",
    "# #         print(Time)\n",
    "#         E_Reward[Time]+=CurrReward\n",
    "\n",
    "# E_Reward/=2000\n",
    "# E_Reward\n"
   ]
  },
  {
   "cell_type": "code",
   "execution_count": 5,
   "metadata": {},
   "outputs": [],
   "source": [
    "# from matplotlib import pyplot as plt\n",
    "# print(np.shape(E_Reward))\n",
    "# arr = range(0,1001)\n",
    "# np.shape(arr)\n",
    "# plt.plot(arr,E_Reward)\n",
    "# plt.show()"
   ]
  },
  {
   "cell_type": "code",
   "execution_count": 6,
   "metadata": {},
   "outputs": [],
   "source": [
    "def BestAction(Optimum):\n",
    "    index = -1\n",
    "    maxV = -100\n",
    "    for i in range(len(Optimum)):\n",
    "        temp = Optimum[i]\n",
    "        if(temp>maxV):\n",
    "            maxV = temp\n",
    "            index = i\n",
    "    return index"
   ]
  },
  {
   "cell_type": "code",
   "execution_count": 14,
   "metadata": {},
   "outputs": [
    {
     "data": {
      "text/plain": [
       "array([0.    , 0.101 , 0.0855, ..., 0.8675, 0.8675, 0.8685])"
      ]
     },
     "execution_count": 14,
     "metadata": {},
     "output_type": "execute_result"
    }
   ],
   "source": [
    "np.random.seed(0)\n",
    "Bandits = 10\n",
    "C=2\n",
    "e=0.1\n",
    "alpha = 0.1\n",
    "Optimistic = 5\n",
    "StepWiseAverage = np.zeros(1001)\n",
    "E_Reward = np.zeros(1001)\n",
    "O_Reward = np.zeros(1001)\n",
    "\n",
    "for j in range(2000):\n",
    "    Optimum = np.random.randn(Bandits)\n",
    "    BestAct = BestAction(Optimum)\n",
    "    start1 = np.random.randn(Bandits)*0.0001\n",
    "    start2 = np.random.randn(Bandits)*0.0001\n",
    "    start3 = np.random.randn(Bandits)*0.0001+Optimistic\n",
    "    Nt1 = np.zeros(Bandits)\n",
    "    Nt2 = np.zeros(Bandits)\n",
    "    Nt3 = np.zeros(Bandits)\n",
    "    Time = 0\n",
    "    for i in range(1000):\n",
    "        start1,Nt1,Time,CurrReward,ind = UCB(C,start1,Optimum,Nt1,Time,Bandits)\n",
    "        if(ind==BestAct):\n",
    "            StepWiseAverage[Time]+=1\n",
    "        start2,Nt2,CurrReward,ind = EGreedy(e,start2,Optimum,Nt2,Bandits)\n",
    "        if(ind==BestAct):\n",
    "            E_Reward[Time]+=1\n",
    "        start3,Nt3,CurrReward,ind = EGreedy(0,start3,Optimum,Nt3,Bandits,ConstantStep=True,alpha=alpha)\n",
    "        if(ind==BestAct):\n",
    "            O_Reward[Time]+=1\n",
    "        \n",
    "\n",
    "StepWiseAverage/=2000\n",
    "StepWiseAverage\n",
    "E_Reward/=2000\n",
    "E_Reward\n",
    "O_Reward/=2000\n",
    "O_Reward\n"
   ]
  },
  {
   "cell_type": "code",
   "execution_count": 15,
   "metadata": {},
   "outputs": [],
   "source": [
    "# # For Indivisual Generation of C\n",
    "# np.random.seed(0)\n",
    "# Bandits = 10\n",
    "# C=2\n",
    "\n",
    "# StepWiseAverage = np.zeros(1001)\n",
    "# # print(start)\n",
    "# # print(Nt)\n",
    "# # print(Time)\n",
    "# for j in range(2000):\n",
    "#     Optimum = np.random.randn(Bandits)\n",
    "#     start = np.random.randn(Bandits)*0.0001\n",
    "#     Nt = np.zeros(Bandits)\n",
    "#     Time = 0\n",
    "#     for i in range(1000):\n",
    "#         start,Nt,Time,CurrReward = UCB(C,start,Optimum,Nt,Time,Bandits)\n",
    "#         StepWiseAverage[Time]+=CurrReward\n",
    "\n",
    "# StepWiseAverage/=2000\n",
    "# StepWiseAverage\n"
   ]
  },
  {
   "cell_type": "code",
   "execution_count": 17,
   "metadata": {},
   "outputs": [
    {
     "name": "stdout",
     "output_type": "stream",
     "text": [
      "(1001,)\n",
      "(1001,)\n"
     ]
    },
    {
     "data": {
      "image/png": "[encoded data removed]",
      "text/plain": [
       "<Figure size 432x288 with 1 Axes>"
      ]
     },
     "metadata": {
      "needs_background": "light"
     },
     "output_type": "display_data"
    }
   ],
   "source": [
    "from matplotlib import pyplot as plt\n",
    "print(np.shape(StepWiseAverage))\n",
    "print(np.shape(E_Reward))\n",
    "arr = range(0,1001)\n",
    "np.shape(arr)\n",
    "plt.plot(arr,StepWiseAverage,color='Red')\n",
    "plt.plot(arr,E_Reward,color='Blue')\n",
    "plt.plot(arr,O_Reward,color='Green')\n",
    "plt.show()"
   ]
  },
  {
   "cell_type": "code",
   "execution_count": null,
   "metadata": {},
   "outputs": [],
   "source": [
    "range(0,10)[2]"
   ]
  },
  {
   "cell_type": "code",
   "execution_count": null,
   "metadata": {},
   "outputs": [],
   "source": []
  }
 ],
 "metadata": {
  "kernelspec": {
   "display_name": "Python 3",
   "language": "python",
   "name": "python3"
  },
  "language_info": {
   "codemirror_mode": {
    "name": "ipython",
    "version": 3
   },
   "file_extension": ".py",
   "mimetype": "text/x-python",
   "name": "python",
   "nbconvert_exporter": "python",
   "pygments_lexer": "ipython3",
   "version": "3.7.3"
  }
 },
 "nbformat": 4,
 "nbformat_minor": 2
}
