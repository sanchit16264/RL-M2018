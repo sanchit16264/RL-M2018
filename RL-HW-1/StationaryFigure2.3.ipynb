{
 "cells": [
  {
   "cell_type": "code",
   "execution_count": 2,
   "metadata": {},
   "outputs": [],
   "source": [
    "import numpy as np"
   ]
  },
  {
   "cell_type": "code",
   "execution_count": null,
   "metadata": {},
   "outputs": [],
   "source": []
  },
  {
   "cell_type": "code",
   "execution_count": 3,
   "metadata": {},
   "outputs": [],
   "source": [
    "def EGreedy(e,start,optimum,Nt,Bandits,ConstantStep=False,alpha=None):\n",
    "    p1 = np.random.rand()\n",
    "    reward = 0\n",
    "    index = -1\n",
    "    if(p1<(1-e)):\n",
    "#         print(Nt)\n",
    "        maxVal = -100\n",
    "        index = -1\n",
    "        for i in range(Bandits):\n",
    "            temp = start[i]\n",
    "            if(temp>maxVal):\n",
    "                maxVal = temp\n",
    "                index = i\n",
    "        reward = optimum[index]+np.random.randn(2)[0]\n",
    "        if(ConstantStep==False):\n",
    "            start[index] = (start[index]*Nt[index]+reward)/(Nt[index]+1)\n",
    "        else:\n",
    "            start[index] = (1-alpha)*start[index]+alpha*reward\n",
    "#             print(alpha)\n",
    "        Nt[index]+=1\n",
    "    else:\n",
    "        index = np.random.randint(Bandits)\n",
    "#         print(index)\n",
    "        reward = optimum[index]+np.random.randn(2)[0]\n",
    "        if(ConstantStep==False):\n",
    "            start[index] = (start[index]*Nt[index]+reward)/(Nt[index]+1)\n",
    "        else:\n",
    "            start[index] = (1-alpha)*start[index]+alpha*reward\n",
    "        Nt[index]+=1\n",
    "    \n",
    "    return start,Nt,reward,index"
   ]
  },
  {
   "cell_type": "code",
   "execution_count": 4,
   "metadata": {},
   "outputs": [],
   "source": [
    "def BestAction(Optimum):\n",
    "    index = -1\n",
    "    maxV = -100\n",
    "    for i in range(len(Optimum)):\n",
    "        temp = Optimum[i]\n",
    "        if(temp>maxV):\n",
    "            maxV = temp\n",
    "            index = i\n",
    "    return index"
   ]
  },
  {
   "cell_type": "code",
   "execution_count": 8,
   "metadata": {},
   "outputs": [
    {
     "data": {
      "text/plain": [
       "array([0.    , 0.0995, 0.0975, ..., 0.8575, 0.859 , 0.8615])"
      ]
     },
     "execution_count": 8,
     "metadata": {},
     "output_type": "execute_result"
    }
   ],
   "source": [
    "np.random.seed(0)\n",
    "Bandits = 10\n",
    "C=2\n",
    "e=0.1\n",
    "alpha = 0.1\n",
    "Optimistic = 5\n",
    "E_Reward = np.zeros(1001)\n",
    "O_Reward = np.zeros(1001)\n",
    "\n",
    "for j in range(2000):\n",
    "    Optimum = np.random.randn(Bandits)\n",
    "    BestAct = BestAction(Optimum)\n",
    "    start2 = np.random.randn(Bandits)*0.0001\n",
    "    start3 = np.random.randn(Bandits)*0.0001+Optimistic\n",
    "    Nt2 = np.zeros(Bandits)\n",
    "    Nt3 = np.zeros(Bandits)\n",
    "    Time = 0\n",
    "    for i in range(1000):\n",
    "        Time+=1\n",
    "        start2,Nt2,CurrReward,ind = EGreedy(e,start2,Optimum,Nt2,Bandits,ConstantStep=True,alpha=alpha)\n",
    "        if(ind==BestAct):\n",
    "            E_Reward[Time] += 1\n",
    "        \n",
    "        start3,Nt3,CurrReward,ind = EGreedy(0,start3,Optimum,Nt3,Bandits,ConstantStep=True,alpha=alpha)\n",
    "        if(ind==BestAct):\n",
    "            O_Reward[Time] += 1\n",
    "        \n",
    "E_Reward/=2000\n",
    "E_Reward\n",
    "O_Reward/=2000\n",
    "O_Reward\n"
   ]
  },
  {
   "cell_type": "code",
   "execution_count": 9,
   "metadata": {},
   "outputs": [
    {
     "name": "stdout",
     "output_type": "stream",
     "text": [
      "(1001,)\n",
      "3\n"
     ]
    },
    {
     "data": {
      "image/png": "[encoded data removed]",
      "text/plain": [
       "<Figure size 432x288 with 1 Axes>"
      ]
     },
     "metadata": {
      "needs_background": "light"
     },
     "output_type": "display_data"
    }
   ],
   "source": [
    "from matplotlib import pyplot as plt\n",
    "print(np.shape(E_Reward))\n",
    "print(BestAct)\n",
    "arr = range(0,1001)\n",
    "np.shape(arr)\n",
    "plt.plot(arr,E_Reward,color='Blue')\n",
    "plt.plot(arr,O_Reward,color='Green')\n",
    "plt.show()"
   ]
  },
  {
   "cell_type": "code",
   "execution_count": 10,
   "metadata": {},
   "outputs": [
    {
     "name": "stdout",
     "output_type": "stream",
     "text": [
      "1.974173261870305\n"
     ]
    }
   ],
   "source": [
    "x = np.random.randn(10)\n",
    "print(np.amax(x))"
   ]
  },
  {
   "cell_type": "code",
   "execution_count": null,
   "metadata": {},
   "outputs": [],
   "source": []
  }
 ],
 "metadata": {
  "kernelspec": {
   "display_name": "Python 3",
   "language": "python",
   "name": "python3"
  },
  "language_info": {
   "codemirror_mode": {
    "name": "ipython",
    "version": 3
   },
   "file_extension": ".py",
   "mimetype": "text/x-python",
   "name": "python",
   "nbconvert_exporter": "python",
   "pygments_lexer": "ipython3",
   "version": "3.7.3"
  }
 },
 "nbformat": 4,
 "nbformat_minor": 2
}
