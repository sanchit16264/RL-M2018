{
 "cells": [
  {
   "cell_type": "code",
   "execution_count": 1,
   "metadata": {},
   "outputs": [],
   "source": [
    "import numpy as np"
   ]
  },
  {
   "cell_type": "code",
   "execution_count": 2,
   "metadata": {},
   "outputs": [],
   "source": [
    "def EGreedy(e,start,optimum,Nt,Bandits,ConstantStep=False,alpha=None):\n",
    "    p1 = np.random.rand()\n",
    "    reward = 0\n",
    "    index = -1\n",
    "    if(p1<(1-e)):\n",
    "#         print(Nt)\n",
    "        maxVal = -100\n",
    "        index = -1\n",
    "        for i in range(Bandits):\n",
    "            temp = start[i]\n",
    "            if(temp>maxVal):\n",
    "                maxVal = temp\n",
    "                index = i\n",
    "        reward = optimum[index]+np.random.randn(2)[0]\n",
    "        if(ConstantStep==False):\n",
    "            start[index] = (start[index]*Nt[index]+reward)/(Nt[index]+1)\n",
    "        else:\n",
    "            start[index] = (1-alpha)*start[index]+alpha*reward\n",
    "#             print(alpha)\n",
    "        Nt[index]+=1\n",
    "    else:\n",
    "        index = np.random.randint(Bandits)\n",
    "#         print(index)\n",
    "        reward = optimum[index]+np.random.randn(2)[0]\n",
    "        if(ConstantStep==False):\n",
    "            start[index] = (start[index]*Nt[index]+reward)/(Nt[index]+1)\n",
    "        else:\n",
    "            start[index] = (1-alpha)*start[index]+alpha*reward\n",
    "        Nt[index]+=1\n",
    "    \n",
    "    return start,Nt,reward,index"
   ]
  },
  {
   "cell_type": "code",
   "execution_count": 4,
   "metadata": {},
   "outputs": [],
   "source": [
    "def BestAction(Optimum):\n",
    "    index = -1\n",
    "    maxV = -100\n",
    "    for i in range(len(Optimum)):\n",
    "        temp = Optimum[i]\n",
    "        if(temp>maxV):\n",
    "            maxV = temp\n",
    "            index = i\n",
    "    return index"
   ]
  },
  {
   "cell_type": "code",
   "execution_count": 24,
   "metadata": {},
   "outputs": [
    {
     "data": {
      "text/plain": [
       "array([0.    , 0.104 , 0.099 , ..., 0.7015, 0.7115, 0.7155])"
      ]
     },
     "execution_count": 24,
     "metadata": {},
     "output_type": "execute_result"
    }
   ],
   "source": [
    "np.random.seed(0)\n",
    "Bandits = 10\n",
    "e=0.1\n",
    "alpha = 0.1\n",
    "NumbStep = 5000\n",
    "E_Reward = np.zeros(NumbStep+1)\n",
    "Alpha_Reward = np.zeros(NumbStep+1)\n",
    "E_Avg= np.zeros(NumbStep+1)\n",
    "Alpha_Avg = np.zeros(NumbStep+1)\n",
    "1001\n",
    "for j in range(2000):\n",
    "    Optimum = np.zeros(Bandits)\n",
    "#     print(Optimum[1])\n",
    "    EqualStart = np.random.randn(2)[0]\n",
    "    for i in range(Bandits):\n",
    "        Optimum[i] = EqualStart\n",
    "    start2 = np.random.randn(Bandits)*0.0001\n",
    "    start3 = np.random.randn(Bandits)*0.0001\n",
    "    Nt2 = np.zeros(Bandits)\n",
    "    Nt3 = np.zeros(Bandits)\n",
    "    Time = 0\n",
    "    BestAct=0\n",
    "    for i in range(NumbStep):\n",
    "        Time+=1\n",
    "        start2,Nt2,CurrReward,ind = EGreedy(e,start2,Optimum,Nt2,Bandits)\n",
    "        E_Avg[Time]+=CurrReward\n",
    "        if(ind==BestAct):\n",
    "            E_Reward[Time] += 1\n",
    "        \n",
    "        start3,Nt3,CurrReward,ind = EGreedy(e,start3,Optimum,Nt3,Bandits,ConstantStep=True,alpha=alpha)\n",
    "        Alpha_Avg[Time]+=CurrReward\n",
    "        if(ind==BestAct):\n",
    "            Alpha_Reward[Time] += 1\n",
    "        Optimum += np.random.randn(Bandits)*0.01\n",
    "        BestAct = BestAction(Optimum)\n",
    "        \n",
    "E_Reward/=2000\n",
    "\n",
    "Alpha_Reward/=2000\n",
    "Alpha_Reward\n"
   ]
  },
  {
   "cell_type": "code",
   "execution_count": 25,
   "metadata": {},
   "outputs": [
    {
     "data": {
      "text/plain": [
       "array([0.    , 0.109 , 0.095 , ..., 0.4305, 0.437 , 0.434 ])"
      ]
     },
     "execution_count": 25,
     "metadata": {},
     "output_type": "execute_result"
    }
   ],
   "source": [
    "E_Reward"
   ]
  },
  {
   "cell_type": "code",
   "execution_count": 26,
   "metadata": {},
   "outputs": [
    {
     "data": {
      "image/png": "[encoded data removed]",
      "text/plain": [
       "<Figure size 432x288 with 1 Axes>"
      ]
     },
     "metadata": {
      "needs_background": "light"
     },
     "output_type": "display_data"
    }
   ],
   "source": [
    "from matplotlib import pyplot as plt\n",
    "arr = range(0,NumbStep+1)\n",
    "plt.plot(arr,E_Reward,color='Blue')\n",
    "plt.plot(arr,Alpha_Reward,color='Green')\n",
    "plt.show()\n"
   ]
  },
  {
   "cell_type": "code",
   "execution_count": 27,
   "metadata": {},
   "outputs": [
    {
     "data": {
      "image/png": "[encoded data removed]",
      "text/plain": [
       "<Figure size 432x288 with 1 Axes>"
      ]
     },
     "metadata": {
      "needs_background": "light"
     },
     "output_type": "display_data"
    }
   ],
   "source": [
    "from matplotlib import pyplot as plt\n",
    "E_Avg/=2000\n",
    "Alpha_Avg/=2000\n",
    "arr = range(0,NumbStep+1)\n",
    "plt.plot(arr,E_Avg,color='Blue')\n",
    "plt.plot(arr,Alpha_Avg,color='Green')\n",
    "plt.show()"
   ]
  },
  {
   "cell_type": "code",
   "execution_count": null,
   "metadata": {},
   "outputs": [],
   "source": []
  }
 ],
 "metadata": {
  "kernelspec": {
   "display_name": "Python 3",
   "language": "python",
   "name": "python3"
  },
  "language_info": {
   "codemirror_mode": {
    "name": "ipython",
    "version": 3
   },
   "file_extension": ".py",
   "mimetype": "text/x-python",
   "name": "python",
   "nbconvert_exporter": "python",
   "pygments_lexer": "ipython3",
   "version": "3.7.3"
  }
 },
 "nbformat": 4,
 "nbformat_minor": 2
}
