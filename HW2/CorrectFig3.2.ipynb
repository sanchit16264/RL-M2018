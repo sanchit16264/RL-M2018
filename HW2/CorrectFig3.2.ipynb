{
 "cells": [
  {
   "cell_type": "code",
   "execution_count": 1,
   "metadata": {},
   "outputs": [],
   "source": [
    "import numpy as np"
   ]
  },
  {
   "cell_type": "code",
   "execution_count": 2,
   "metadata": {},
   "outputs": [],
   "source": [
    "#The Reward,Next State for give s,a\n",
    "def rew(sx,sy,a):\n",
    "    reward = 0\n",
    "    if((sx==1 and sy==0)):\n",
    "        sy=4\n",
    "        reward = 10\n",
    "    elif(sx==3 and sy==0):\n",
    "        sy=2\n",
    "        reward = 5\n",
    "    elif(a==1):\n",
    "        if((sx-1)<0):\n",
    "            reward = -1\n",
    "        else:\n",
    "            sx-=1\n",
    "    elif(a==2):\n",
    "        if((sx+1)>4):\n",
    "            reward = -1\n",
    "        else:\n",
    "            sx+=1\n",
    "    elif(a==3):\n",
    "        if((sy-1)<0):\n",
    "            reward = -1\n",
    "        else:\n",
    "            sy-=1\n",
    "    elif(a==0):\n",
    "        if((sy+1)>4):\n",
    "            reward = -1\n",
    "        else:\n",
    "            sy+=1\n",
    "    return sx,sy,reward\n",
    "        "
   ]
  },
  {
   "cell_type": "code",
   "execution_count": 3,
   "metadata": {},
   "outputs": [
    {
     "name": "stdout",
     "output_type": "stream",
     "text": [
      "samething\n",
      "1\n",
      "21\n",
      "samething\n",
      "3\n",
      "13\n",
      "[-0.5  10.   -0.25  5.   -0.5  -0.25  0.    0.    0.   -0.25 -0.25  0.\n",
      "  0.    0.   -0.25 -0.25  0.    0.    0.   -0.25 -0.5  -0.25 -0.25 -0.25\n",
      " -0.5 ]\n",
      "[[0.5  0.25 0.   0.   0.   0.25 0.   0.   0.   0.   0.   0.   0.   0.\n",
      "  0.   0.   0.   0.   0.   0.   0.   0.   0.   0.   0.  ]\n",
      " [0.   0.   0.   0.   0.   0.   0.   0.   0.   0.   0.   0.   0.   0.\n",
      "  0.   0.   0.   0.   0.   0.   0.   1.   0.   0.   0.  ]\n",
      " [0.   0.25 0.25 0.25 0.   0.   0.   0.25 0.   0.   0.   0.   0.   0.\n",
      "  0.   0.   0.   0.   0.   0.   0.   0.   0.   0.   0.  ]\n",
      " [0.   0.   0.   0.   0.   0.   0.   0.   0.   0.   0.   0.   0.   1.\n",
      "  0.   0.   0.   0.   0.   0.   0.   0.   0.   0.   0.  ]\n",
      " [0.   0.   0.   0.25 0.5  0.   0.   0.   0.   0.25 0.   0.   0.   0.\n",
      "  0.   0.   0.   0.   0.   0.   0.   0.   0.   0.   0.  ]\n",
      " [0.25 0.   0.   0.   0.   0.25 0.25 0.   0.   0.   0.25 0.   0.   0.\n",
      "  0.   0.   0.   0.   0.   0.   0.   0.   0.   0.   0.  ]\n",
      " [0.   0.25 0.   0.   0.   0.25 0.   0.25 0.   0.   0.   0.25 0.   0.\n",
      "  0.   0.   0.   0.   0.   0.   0.   0.   0.   0.   0.  ]\n",
      " [0.   0.   0.25 0.   0.   0.   0.25 0.   0.25 0.   0.   0.   0.25 0.\n",
      "  0.   0.   0.   0.   0.   0.   0.   0.   0.   0.   0.  ]\n",
      " [0.   0.   0.   0.25 0.   0.   0.   0.25 0.   0.25 0.   0.   0.   0.25\n",
      "  0.   0.   0.   0.   0.   0.   0.   0.   0.   0.   0.  ]\n",
      " [0.   0.   0.   0.   0.25 0.   0.   0.   0.25 0.25 0.   0.   0.   0.\n",
      "  0.25 0.   0.   0.   0.   0.   0.   0.   0.   0.   0.  ]\n",
      " [0.   0.   0.   0.   0.   0.25 0.   0.   0.   0.   0.25 0.25 0.   0.\n",
      "  0.   0.25 0.   0.   0.   0.   0.   0.   0.   0.   0.  ]\n",
      " [0.   0.   0.   0.   0.   0.   0.25 0.   0.   0.   0.25 0.   0.25 0.\n",
      "  0.   0.   0.25 0.   0.   0.   0.   0.   0.   0.   0.  ]\n",
      " [0.   0.   0.   0.   0.   0.   0.   0.25 0.   0.   0.   0.25 0.   0.25\n",
      "  0.   0.   0.   0.25 0.   0.   0.   0.   0.   0.   0.  ]\n",
      " [0.   0.   0.   0.   0.   0.   0.   0.   0.25 0.   0.   0.   0.25 0.\n",
      "  0.25 0.   0.   0.   0.25 0.   0.   0.   0.   0.   0.  ]\n",
      " [0.   0.   0.   0.   0.   0.   0.   0.   0.   0.25 0.   0.   0.   0.25\n",
      "  0.25 0.   0.   0.   0.   0.25 0.   0.   0.   0.   0.  ]\n",
      " [0.   0.   0.   0.   0.   0.   0.   0.   0.   0.   0.25 0.   0.   0.\n",
      "  0.   0.25 0.25 0.   0.   0.   0.25 0.   0.   0.   0.  ]\n",
      " [0.   0.   0.   0.   0.   0.   0.   0.   0.   0.   0.   0.25 0.   0.\n",
      "  0.   0.25 0.   0.25 0.   0.   0.   0.25 0.   0.   0.  ]\n",
      " [0.   0.   0.   0.   0.   0.   0.   0.   0.   0.   0.   0.   0.25 0.\n",
      "  0.   0.   0.25 0.   0.25 0.   0.   0.   0.25 0.   0.  ]\n",
      " [0.   0.   0.   0.   0.   0.   0.   0.   0.   0.   0.   0.   0.   0.25\n",
      "  0.   0.   0.   0.25 0.   0.25 0.   0.   0.   0.25 0.  ]\n",
      " [0.   0.   0.   0.   0.   0.   0.   0.   0.   0.   0.   0.   0.   0.\n",
      "  0.25 0.   0.   0.   0.25 0.25 0.   0.   0.   0.   0.25]\n",
      " [0.   0.   0.   0.   0.   0.   0.   0.   0.   0.   0.   0.   0.   0.\n",
      "  0.   0.25 0.   0.   0.   0.   0.5  0.25 0.   0.   0.  ]\n",
      " [0.   0.   0.   0.   0.   0.   0.   0.   0.   0.   0.   0.   0.   0.\n",
      "  0.   0.   0.25 0.   0.   0.   0.25 0.25 0.25 0.   0.  ]\n",
      " [0.   0.   0.   0.   0.   0.   0.   0.   0.   0.   0.   0.   0.   0.\n",
      "  0.   0.   0.   0.25 0.   0.   0.   0.25 0.25 0.25 0.  ]\n",
      " [0.   0.   0.   0.   0.   0.   0.   0.   0.   0.   0.   0.   0.   0.\n",
      "  0.   0.   0.   0.   0.25 0.   0.   0.   0.25 0.25 0.25]\n",
      " [0.   0.   0.   0.   0.   0.   0.   0.   0.   0.   0.   0.   0.   0.\n",
      "  0.   0.   0.   0.   0.   0.25 0.   0.   0.   0.25 0.5 ]]\n",
      "[ 3.30899634  8.78929186  4.42761918  5.32236759  1.49217876  1.52158807\n",
      "  2.99231786  2.25013995  1.9075717   0.54740271  0.05082249  0.73817059\n",
      "  0.67311326  0.35818621 -0.40314114 -0.9735923  -0.43549543 -0.35488227\n",
      " -0.58560509 -1.18307508 -1.85770055 -1.34523126 -1.22926726 -1.42291815\n",
      " -1.97517905]\n"
     ]
    }
   ],
   "source": [
    "#Calculating the Reward Matrix & Probability Matrix\n",
    "GridVal = np.zeros((5,5)) #For Rewards\n",
    "TempVal = np.zeros((25,25))\n",
    "for i in range(5):\n",
    "    for j in range(5):\n",
    "        if((j==0 and i==1) or (j==0 and i==3)):\n",
    "            for act in range(1):\n",
    "                Next_sx,Next_sy,reward = rew(i,j,act)\n",
    "                GridVal[j][i] += (reward)\n",
    "                IndexInProbMatJ = Next_sy*5 + Next_sx\n",
    "                IndexInProbMatI = j*5 + i\n",
    "                TempVal[IndexInProbMatI][IndexInProbMatJ] += 1\n",
    "                print(\"samething\")\n",
    "                print(IndexInProbMatI)\n",
    "                print(IndexInProbMatJ)\n",
    "        else:\n",
    "            for act in range(4):\n",
    "                Next_sx,Next_sy,reward = rew(i,j,act)\n",
    "                GridVal[j][i] += 0.25*(reward)\n",
    "                IndexInProbMatJ = Next_sy*5 + Next_sx\n",
    "                IndexInProbMatI = j*5 + i\n",
    "                TempVal[IndexInProbMatI][IndexInProbMatJ] += 0.25\n",
    "\n",
    "Rewards = (GridVal).flatten()\n",
    "Prob = TempVal\n",
    "gamma = 0.9\n",
    "X = (np.identity(25) - (gamma*Prob)) # I-gammaP\n",
    "Value = np.matmul(np.linalg.inv(X),Rewards)\n",
    "print(Rewards)\n",
    "print(TempVal)\n",
    "print(Value)\n",
    "# Value\n",
    "# Prob"
   ]
  },
  {
   "cell_type": "code",
   "execution_count": 4,
   "metadata": {},
   "outputs": [
    {
     "data": {
      "text/plain": [
       "array([[ 3.30899634,  8.78929186,  4.42761918,  5.32236759,  1.49217876],\n",
       "       [ 1.52158807,  2.99231786,  2.25013995,  1.9075717 ,  0.54740271],\n",
       "       [ 0.05082249,  0.73817059,  0.67311326,  0.35818621, -0.40314114],\n",
       "       [-0.9735923 , -0.43549543, -0.35488227, -0.58560509, -1.18307508],\n",
       "       [-1.85770055, -1.34523126, -1.22926726, -1.42291815, -1.97517905]])"
      ]
     },
     "execution_count": 4,
     "metadata": {},
     "output_type": "execute_result"
    }
   ],
   "source": [
    "Value.reshape((5,5))"
   ]
  },
  {
   "cell_type": "code",
   "execution_count": null,
   "metadata": {},
   "outputs": [],
   "source": []
  }
 ],
 "metadata": {
  "kernelspec": {
   "display_name": "Python 3",
   "language": "python",
   "name": "python3"
  },
  "language_info": {
   "codemirror_mode": {
    "name": "ipython",
    "version": 3
   },
   "file_extension": ".py",
   "mimetype": "text/x-python",
   "name": "python",
   "nbconvert_exporter": "python",
   "pygments_lexer": "ipython3",
   "version": "3.7.3"
  }
 },
 "nbformat": 4,
 "nbformat_minor": 2
}
