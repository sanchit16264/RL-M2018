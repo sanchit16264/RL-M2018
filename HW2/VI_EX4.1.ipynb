{
 "cells": [
  {
   "cell_type": "code",
   "execution_count": 1,
   "metadata": {},
   "outputs": [],
   "source": [
    "import numpy as np"
   ]
  },
  {
   "cell_type": "code",
   "execution_count": 2,
   "metadata": {},
   "outputs": [],
   "source": [
    "def rew(sx,sy,a):\n",
    "    reward = -1\n",
    "    if((sx==0 and sy==0) or (sx==3 and sy==3)):\n",
    "        return sx,sy,0\n",
    "    elif(a==1):\n",
    "        if((sx-1)<0):\n",
    "            reward = -1\n",
    "        else:\n",
    "            sx-=1\n",
    "    elif(a==2):\n",
    "        if((sx+1)>3):\n",
    "            reward = -1\n",
    "        else:\n",
    "            sx+=1\n",
    "    elif(a==3):\n",
    "        if((sy-1)<0):\n",
    "            reward = -1\n",
    "        else:\n",
    "            sy-=1\n",
    "    elif(a==0):\n",
    "        if((sy+1)>3):\n",
    "            reward = -1\n",
    "        else:\n",
    "            sy+=1\n",
    "    return sx,sy,reward"
   ]
  },
  {
   "cell_type": "code",
   "execution_count": 12,
   "metadata": {},
   "outputs": [
    {
     "name": "stdout",
     "output_type": "stream",
     "text": [
      "[[0. 0. 0. 0.]\n",
      " [0. 0. 0. 0.]\n",
      " [0. 0. 0. 0.]\n",
      " [0. 0. 0. 0.]]\n",
      "[[ 0. -1. -1. -1.]\n",
      " [-1. -1. -1. -1.]\n",
      " [-1. -1. -1. -1.]\n",
      " [-1. -1. -1.  0.]]\n",
      "[[ 0. -1. -2. -2.]\n",
      " [-1. -2. -2. -2.]\n",
      " [-2. -2. -2. -1.]\n",
      " [-2. -2. -1.  0.]]\n",
      "[[ 0. -1. -2. -3.]\n",
      " [-1. -2. -3. -2.]\n",
      " [-2. -3. -2. -1.]\n",
      " [-3. -2. -1.  0.]]\n",
      "[[ 0. -1. -2. -3.]\n",
      " [-1. -2. -3. -2.]\n",
      " [-2. -3. -2. -1.]\n",
      " [-3. -2. -1.  0.]]\n",
      "[[ 0. -1. -2. -3.]\n",
      " [-1. -2. -3. -2.]\n",
      " [-2. -3. -2. -1.]\n",
      " [-3. -2. -1.  0.]]\n",
      "[[ 0. -1. -2. -3.]\n",
      " [-1. -2. -3. -2.]\n",
      " [-2. -3. -2. -1.]\n",
      " [-3. -2. -1.  0.]]\n",
      "[[ 0. -1. -2. -3.]\n",
      " [-1. -2. -3. -2.]\n",
      " [-2. -3. -2. -1.]\n",
      " [-3. -2. -1.  0.]]\n",
      "[[ 0. -1. -2. -3.]\n",
      " [-1. -2. -3. -2.]\n",
      " [-2. -3. -2. -1.]\n",
      " [-3. -2. -1.  0.]]\n"
     ]
    }
   ],
   "source": [
    "GridVal = np.zeros((4,4))\n",
    "police = np.zeros((4,4,4))\n",
    "count = 0\n",
    "for k in range(1000):\n",
    "    TempVal = np.zeros((4,4))\n",
    "    for i in range(4):\n",
    "        for j in range(4):\n",
    "            #We will use V* formula which maximizes over all actions\n",
    "            val = []\n",
    "            for act in range(4):\n",
    "                #As for a given state and action the next state-\n",
    "                # and reward are fixed so P(s',r|s,a)=1\n",
    "                Next_sx,Next_sy,reward = rew(i,j,act)\n",
    "                val.append(reward+GridVal[Next_sy][Next_sx])\n",
    "            TempVal[j][i] = np.max(val)\n",
    "    diff = mod = np.abs(np.linalg.det(GridVal)-np.linalg.det(TempVal))\n",
    "    print(GridVal)\n",
    "    GridVal = TempVal\n",
    "    if(diff<0.0001):\n",
    "        count+=1\n",
    "    else:\n",
    "        count=0\n",
    "    if(count>4):\n",
    "        break\n",
    "# print(GridVal)"
   ]
  },
  {
   "cell_type": "code",
   "execution_count": 11,
   "metadata": {},
   "outputs": [
    {
     "data": {
      "text/plain": [
       "array([[[1., 0., 0., 0.],\n",
       "        [0., 1., 0., 0.],\n",
       "        [0., 1., 0., 0.],\n",
       "        [1., 0., 0., 0.]],\n",
       "\n",
       "       [[0., 0., 0., 1.],\n",
       "        [0., 1., 0., 0.],\n",
       "        [1., 0., 0., 0.],\n",
       "        [1., 0., 0., 0.]],\n",
       "\n",
       "       [[0., 0., 0., 1.],\n",
       "        [1., 0., 0., 0.],\n",
       "        [1., 0., 0., 0.],\n",
       "        [1., 0., 0., 0.]],\n",
       "\n",
       "       [[0., 0., 1., 0.],\n",
       "        [0., 0., 1., 0.],\n",
       "        [0., 0., 1., 0.],\n",
       "        [1., 0., 0., 0.]]])"
      ]
     },
     "execution_count": 11,
     "metadata": {},
     "output_type": "execute_result"
    }
   ],
   "source": [
    "#Now we find the Policy\n",
    "for i in range(4):\n",
    "    for j in range(4):\n",
    "        val = []\n",
    "        for act in range(4):\n",
    "            #As for a given state and action the next state-\n",
    "            # and reward are fixed so P(s',r|s,a)=1\n",
    "            Next_sx,Next_sy,reward = rew(i,j,act)\n",
    "#                 val.append(reward+gamma*GridVal[Next_sy][Next_sx])\n",
    "            val.append((reward+GridVal[Next_sy][Next_sx]))\n",
    "        BestAct = np.argmax(val)\n",
    "        police[j][i][BestAct] = 1\n",
    "police"
   ]
  },
  {
   "cell_type": "code",
   "execution_count": null,
   "metadata": {},
   "outputs": [],
   "source": []
  }
 ],
 "metadata": {
  "kernelspec": {
   "display_name": "Python 3",
   "language": "python",
   "name": "python3"
  },
  "language_info": {
   "codemirror_mode": {
    "name": "ipython",
    "version": 3
   },
   "file_extension": ".py",
   "mimetype": "text/x-python",
   "name": "python",
   "nbconvert_exporter": "python",
   "pygments_lexer": "ipython3",
   "version": "3.7.3"
  }
 },
 "nbformat": 4,
 "nbformat_minor": 2
}
