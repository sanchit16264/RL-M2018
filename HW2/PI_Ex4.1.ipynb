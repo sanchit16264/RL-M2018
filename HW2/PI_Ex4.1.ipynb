{
 "cells": [
  {
   "cell_type": "code",
   "execution_count": 2,
   "metadata": {},
   "outputs": [],
   "source": [
    "import numpy as np"
   ]
  },
  {
   "cell_type": "code",
   "execution_count": 3,
   "metadata": {},
   "outputs": [],
   "source": [
    "def rew(sx,sy,a):\n",
    "    reward = -1\n",
    "    if((sx==0 and sy==0) or (sx==3 and sy==3)):\n",
    "        return sx,sy,0\n",
    "    elif(a==1):\n",
    "        if((sx-1)<0):\n",
    "            reward = -1\n",
    "        else:\n",
    "            sx-=1\n",
    "    elif(a==2):\n",
    "        if((sx+1)>3):\n",
    "            reward = -1\n",
    "        else:\n",
    "            sx+=1\n",
    "    elif(a==3):\n",
    "        if((sy-1)<0):\n",
    "            reward = -1\n",
    "        else:\n",
    "            sy-=1\n",
    "    elif(a==0):\n",
    "        if((sy+1)>3):\n",
    "            reward = -1\n",
    "        else:\n",
    "            sy+=1\n",
    "    return sx,sy,reward"
   ]
  },
  {
   "cell_type": "code",
   "execution_count": 4,
   "metadata": {},
   "outputs": [],
   "source": [
    "def actionNumb(i,j):\n",
    "    if((i==3 and j==0)):\n",
    "        return [0,1,2]\n",
    "    elif((i==0 and j==3)):\n",
    "        return [1,2,3]\n",
    "    else:\n",
    "        return [0,1,2,3]"
   ]
  },
  {
   "cell_type": "code",
   "execution_count": 7,
   "metadata": {},
   "outputs": [
    {
     "name": "stdout",
     "output_type": "stream",
     "text": [
      "[[  0.         -13.90085451 -19.85308423 -21.83559257]\n",
      " [-13.90085451 -17.8705759  -19.854067   -19.85308423]\n",
      " [-19.85308423 -19.854067   -17.8705759  -13.90085451]\n",
      " [-21.83559257 -19.85308423 -13.90085451   0.        ]]\n",
      "[[ 0. -1. -2. -3.]\n",
      " [-1. -2. -3. -2.]\n",
      " [-2. -3. -2. -1.]\n",
      " [-3. -2. -1.  0.]]\n",
      "[[ 0. -1. -2. -3.]\n",
      " [-1. -2. -3. -2.]\n",
      " [-2. -3. -2. -1.]\n",
      " [-3. -2. -1.  0.]]\n"
     ]
    }
   ],
   "source": [
    "GridVal = np.zeros((4,4))\n",
    "#Making a Policy Function\n",
    "prev = 0\n",
    "count=0\n",
    "police = np.ones((4,4,4))/4\n",
    "policy_stable=False\n",
    "ValueLog =[]\n",
    "ValueLog.append(GridVal)\n",
    "while(policy_stable==False):\n",
    "    for k in range(1000):\n",
    "        diff = 0\n",
    "        TempVal = np.zeros((4,4))\n",
    "        for i in range(4):\n",
    "            for j in range(4):\n",
    "                #We will use V* formula which maximizes over all actions\n",
    "    #             val = []\n",
    "                for act in range(4):\n",
    "                    #As for a given state and action the next state-\n",
    "                    # and reward are fixed so P(s',r|s,a)=1\n",
    "                    Next_sx,Next_sy,reward = rew(i,j,act)\n",
    "    #                 val.append(reward+gamma*GridVal[Next_sy][Next_sx])\n",
    "                    TempVal[j][i] += police[j][i][act]*(reward+GridVal[Next_sy][Next_sx])\n",
    "\n",
    "    #                 print(1)\n",
    "        mod = np.abs(np.linalg.det(GridVal-TempVal))\n",
    "        GridVal = TempVal\n",
    "    #     print(mod)\n",
    "        if(mod<0.0000000001):\n",
    "            if(prev==1):\n",
    "#                 print(\"why\")\n",
    "                break\n",
    "            else:\n",
    "                prev = 1\n",
    "        else:\n",
    "            prev = 0\n",
    "    #Policy Improvement\n",
    "    ValueLog.append(TempVal)\n",
    "    print(TempVal)\n",
    "    policy_stable = True\n",
    "    New_policy = police.copy()\n",
    "    for i in range(4):\n",
    "        for j in range(4):\n",
    "            val = []\n",
    "            for act in range(4):\n",
    "                #As for a given state and action the next state-\n",
    "                # and reward are fixed so P(s',r|s,a)=1\n",
    "                Next_sx,Next_sy,reward = rew(i,j,act)\n",
    "#                 val.append(reward+gamma*GridVal[Next_sy][Next_sx])\n",
    "                val.append((reward+GridVal[Next_sy][Next_sx]))\n",
    "            BestAct = np.argmax(val)\n",
    "            CurrentBestAct = np.argmax(police[j][i])\n",
    "            if(BestAct!=CurrentBestAct):\n",
    "                policy_stable = False\n",
    "#                 print(\"F\")\n",
    "            police[j][i] = np.zeros(4)\n",
    "            police[j][i][BestAct]=1\n",
    "    Diff = 0\n",
    "    for k in range(4):\n",
    "        Diff+=np.abs(np.linalg.det(New_policy[:][:][k])-np.linalg.det(police[:][:][k]))\n",
    "            \n",
    "    if(Diff<0.00001):\n",
    "        count+=1\n",
    "    else:\n",
    "        count=0\n",
    "    if(count>3):\n",
    "        break\n",
    "        \n",
    "# GridVal"
   ]
  },
  {
   "cell_type": "code",
   "execution_count": null,
   "metadata": {},
   "outputs": [],
   "source": []
  },
  {
   "cell_type": "code",
   "execution_count": null,
   "metadata": {},
   "outputs": [],
   "source": []
  },
  {
   "cell_type": "code",
   "execution_count": null,
   "metadata": {},
   "outputs": [],
   "source": []
  }
 ],
 "metadata": {
  "kernelspec": {
   "display_name": "Python 3",
   "language": "python",
   "name": "python3"
  },
  "language_info": {
   "codemirror_mode": {
    "name": "ipython",
    "version": 3
   },
   "file_extension": ".py",
   "mimetype": "text/x-python",
   "name": "python",
   "nbconvert_exporter": "python",
   "pygments_lexer": "ipython3",
   "version": "3.7.3"
  }
 },
 "nbformat": 4,
 "nbformat_minor": 2
}
