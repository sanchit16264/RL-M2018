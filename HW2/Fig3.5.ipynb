{
 "cells": [
  {
   "cell_type": "code",
   "execution_count": 1,
   "metadata": {},
   "outputs": [],
   "source": [
    "import numpy as np"
   ]
  },
  {
   "cell_type": "code",
   "execution_count": 2,
   "metadata": {},
   "outputs": [],
   "source": [
    "#The Reward,Next State for give s,a\n",
    "def rew(sx,sy,a):\n",
    "    reward = 0\n",
    "    if((sx==1 and sy==0)):\n",
    "        sy=4\n",
    "        reward = 10\n",
    "    elif(sx==3 and sy==0):\n",
    "        sy=2\n",
    "        reward = 5\n",
    "    elif(a==1):\n",
    "        if((sx-1)<0):\n",
    "            reward = -1\n",
    "        else:\n",
    "            sx-=1\n",
    "    elif(a==2):\n",
    "        if((sx+1)>4):\n",
    "            reward = -1\n",
    "        else:\n",
    "            sx+=1\n",
    "    elif(a==3):\n",
    "        if((sy-1)<0):\n",
    "            reward = -1\n",
    "        else:\n",
    "            sy-=1\n",
    "    elif(a==0):\n",
    "        if((sy+1)>4):\n",
    "            reward = -1\n",
    "        else:\n",
    "            sy+=1\n",
    "    return sx,sy,reward\n",
    "        "
   ]
  },
  {
   "cell_type": "code",
   "execution_count": 3,
   "metadata": {},
   "outputs": [
    {
     "data": {
      "text/plain": [
       "array([[21.97748529, 24.4194281 , 21.97748529, 19.4194281 , 17.47748529],\n",
       "       [16.02158677, 21.97748529, 19.77973676, 17.80176308, 16.02158677],\n",
       "       [17.80176308, 19.77973676, 17.80176308, 16.02158677, 14.4194281 ],\n",
       "       [12.97748529, 17.80176308, 16.02158677, 14.4194281 , 12.97748529],\n",
       "       [14.4194281 , 16.02158677, 14.4194281 , 12.97748529, 11.67973676]])"
      ]
     },
     "execution_count": 3,
     "metadata": {},
     "output_type": "execute_result"
    }
   ],
   "source": [
    "#Making a 5x5 Grid\n",
    "GridVal = np.zeros((5,5))\n",
    "#Gamma Value give as 0.9\n",
    "gamma = 0.9\n",
    "for k in range(1000):\n",
    "    TempVal = np.zeros((5,5))\n",
    "    for i in range(5):\n",
    "        for j in range(5):\n",
    "            #We will use V* formula which maximizes over all actions\n",
    "            val = []\n",
    "            if((j==1 and i==0) or (j==3 and i==0)):\n",
    "                for act in range(1):\n",
    "                    #As for a given state and action the next state-\n",
    "                    # and reward are fixed so P(s',r|s,a)=1\n",
    "                    Next_sx,Next_sy,reward = rew(i,j,act)\n",
    "                    val.append(reward+gamma*GridVal[Next_sy][Next_sx])\n",
    "            else:\n",
    "                for act in range(4):\n",
    "                    #As for a given state and action the next state-\n",
    "                    # and reward are fixed so P(s',r|s,a)=1\n",
    "                    Next_sx,Next_sy,reward = rew(i,j,act)\n",
    "                    val.append(reward+gamma*GridVal[Next_sy][Next_sx])\n",
    "            TempVal[j][i] = np.max(val)\n",
    "    GridVal = TempVal\n",
    "GridVal\n",
    "                \n",
    "                "
   ]
  },
  {
   "cell_type": "code",
   "execution_count": null,
   "metadata": {},
   "outputs": [],
   "source": []
  }
 ],
 "metadata": {
  "kernelspec": {
   "display_name": "Python 3",
   "language": "python",
   "name": "python3"
  },
  "language_info": {
   "codemirror_mode": {
    "name": "ipython",
    "version": 3
   },
   "file_extension": ".py",
   "mimetype": "text/x-python",
   "name": "python",
   "nbconvert_exporter": "python",
   "pygments_lexer": "ipython3",
   "version": "3.7.3"
  }
 },
 "nbformat": 4,
 "nbformat_minor": 2
}
